{
 "cells": [
  {
   "cell_type": "markdown",
   "id": "f306d450",
   "metadata": {},
   "source": [
    "# DATA CONSISTING EXTINCTION OF SPECIES IN PREVIOUS YEARS"
   ]
  },
  {
   "cell_type": "markdown",
   "id": "8180ff5c",
   "metadata": {},
   "source": [
    "## 1. Threatened species over these previous years:"
   ]
  },
  {
   "cell_type": "code",
   "execution_count": 1,
   "id": "4c1bd504",
   "metadata": {},
   "outputs": [
    {
     "data": {
      "image/png": "[encoded data removed]",
      "text/plain": [
       "<Figure size 432x288 with 1 Axes>"
      ]
     },
     "metadata": {
      "needs_background": "light"
     },
     "output_type": "display_data"
    }
   ],
   "source": [
    "import matplotlib.pyplot as plt\n",
    "import pandas as pd\n",
    "import numpy as np\n",
    "\n",
    "x = [1995,1996,1997,1998,1999,2000,2001,2002,2003,2004,2005,2006,2007,2008,2009,2010,2011,2012,2013]\n",
    "y1 = np.array([90, 90, 90, 90,90, 90, 90, 90,90, 90,90,90,90,90,90,90,90,90,90])\n",
    "y2 = np.array([320,325,330,350,356,400, 420, 440, 500,520,520,540,544,546,548,550,550,550,550])\n",
    "y3 = np.array([700,710,715,720, 750,780,800,800,820,850, 910,925,950,950, 980,990,1000,1000,1000])\n",
    "y4 = np.array([700,710,720,730,800,830,850,890,900,930,950,970,980,990,990, 1005,1010,1010,1020])\n",
    "\n",
    "plt.bar(x, height = y1, width = 0.6, color='r')\n",
    "plt.bar(x, height=y2, width = 0.6, bottom=y1, color='royalblue')\n",
    "plt.bar(x, height = y3, width = 0.6, bottom=y1+y2, color='y')\n",
    "plt.bar(x, height = y4, width = 0.6, bottom=y1+y2+y3, color='g')\n",
    "plt.xlabel(\"Year\")\n",
    "plt.ylabel(\"Number of listings\")\n",
    "plt.legend([\"Presumed extinct\", \"Critically endangered\", \"Endangered\", \"Vulnerable\"])\n",
    "plt.title(\"THREATENED SPECIES\")\n",
    "plt.rcParams['figure.figsize'] = [20, 10]\n",
    "plt.show()\n"
   ]
  },
  {
   "cell_type": "markdown",
   "id": "c5c1926b",
   "metadata": {},
   "source": [
    "## 2. Species that have been evaluated for their extinction risk:\n"
   ]
  },
  {
   "cell_type": "code",
   "execution_count": 2,
   "id": "c5e9732f",
   "metadata": {},
   "outputs": [
    {
     "data": {
      "text/html": [
       "<div>\n",
       "<style scoped>\n",
       "    .dataframe tbody tr th:only-of-type {\n",
       "        vertical-align: middle;\n",
       "    }\n",
       "\n",
       "    .dataframe tbody tr th {\n",
       "        vertical-align: top;\n",
       "    }\n",
       "\n",
       "    .dataframe thead th {\n",
       "        text-align: right;\n",
       "    }\n",
       "</style>\n",
       "<table border=\"1\" class=\"dataframe\">\n",
       "  <thead>\n",
       "    <tr style=\"text-align: right;\">\n",
       "      <th></th>\n",
       "      <th>SPECIES</th>\n",
       "      <th>RISK RATE</th>\n",
       "    </tr>\n",
       "  </thead>\n",
       "  <tbody>\n",
       "    <tr>\n",
       "      <th>0</th>\n",
       "      <td>Birds</td>\n",
       "      <td>0%</td>\n",
       "    </tr>\n",
       "    <tr>\n",
       "      <th>1</th>\n",
       "      <td>Crabs</td>\n",
       "      <td>0.20%</td>\n",
       "    </tr>\n",
       "    <tr>\n",
       "      <th>2</th>\n",
       "      <td>Mammals</td>\n",
       "      <td>0.50%</td>\n",
       "    </tr>\n",
       "    <tr>\n",
       "      <th>3</th>\n",
       "      <td>Amphibians</td>\n",
       "      <td>1%</td>\n",
       "    </tr>\n",
       "    <tr>\n",
       "      <th>4</th>\n",
       "      <td>Reptiles</td>\n",
       "      <td>4%</td>\n",
       "    </tr>\n",
       "    <tr>\n",
       "      <th>5</th>\n",
       "      <td>Fishes</td>\n",
       "      <td>12%</td>\n",
       "    </tr>\n",
       "    <tr>\n",
       "      <th>6</th>\n",
       "      <td>Corals</td>\n",
       "      <td>40%</td>\n",
       "    </tr>\n",
       "    <tr>\n",
       "      <th>7</th>\n",
       "      <td>Plants</td>\n",
       "      <td>60%</td>\n",
       "    </tr>\n",
       "    <tr>\n",
       "      <th>8</th>\n",
       "      <td>Crustaceans</td>\n",
       "      <td>73%</td>\n",
       "    </tr>\n",
       "    <tr>\n",
       "      <th>9</th>\n",
       "      <td>Insects</td>\n",
       "      <td>87%</td>\n",
       "    </tr>\n",
       "    <tr>\n",
       "      <th>10</th>\n",
       "      <td>Red algae</td>\n",
       "      <td>92%</td>\n",
       "    </tr>\n",
       "    <tr>\n",
       "      <th>11</th>\n",
       "      <td>Arachnids</td>\n",
       "      <td>100%</td>\n",
       "    </tr>\n",
       "    <tr>\n",
       "      <th>12</th>\n",
       "      <td>Fungi</td>\n",
       "      <td>100%</td>\n",
       "    </tr>\n",
       "  </tbody>\n",
       "</table>\n",
       "</div>"
      ],
      "text/plain": [
       "        SPECIES RISK RATE\n",
       "0         Birds        0%\n",
       "1         Crabs     0.20%\n",
       "2       Mammals     0.50%\n",
       "3    Amphibians        1%\n",
       "4      Reptiles        4%\n",
       "5        Fishes       12%\n",
       "6        Corals       40%\n",
       "7        Plants       60%\n",
       "8   Crustaceans       73%\n",
       "9       Insects       87%\n",
       "10    Red algae       92%\n",
       "11    Arachnids      100%\n",
       "12        Fungi      100%"
      ]
     },
     "execution_count": 2,
     "metadata": {},
     "output_type": "execute_result"
    }
   ],
   "source": [
    "import pandas as pd\n",
    "\n",
    "my_df = pd.DataFrame({\n",
    "    'SPECIES': ['Birds','Crabs','Mammals','Amphibians','Reptiles','Fishes','Corals','Plants','Crustaceans','Insects','Red algae','Arachnids','Fungi'],\n",
    "    'RISK RATE':  ['0%','0.20%','0.50%','1%','4%','12%','40%','60%','73%','87%','92%','100%','100%'],\n",
    "\n",
    "    })\n",
    "df = pd.DataFrame.from_dict(my_df);df"
   ]
  },
  {
   "cell_type": "code",
   "execution_count": 3,
   "id": "fd2a7ebc",
   "metadata": {},
   "outputs": [
    {
     "data": {
      "image/png": "[encoded data removed]",
      "text/plain": [
       "<Figure size 648x432 with 1 Axes>"
      ]
     },
     "metadata": {
      "needs_background": "light"
     },
     "output_type": "display_data"
    }
   ],
   "source": [
    "fig = plt.figure(figsize = (9,6))\n",
    "ax1 = plt.subplot(111)\n",
    "diff_color = ax1.barh(df['SPECIES'],df['RISK RATE'])\n",
    "diff_color[12].set_color('red')\n",
    "diff_color[11].set_color('red')\n",
    "diff_color[10].set_color('orange')\n",
    "diff_color[9].set_color('#FDDA0D')\n",
    "diff_color[8].set_color('#FFEA00')\n",
    "diff_color[7].set_color('yellow')\n",
    "diff_color[1].set_color('green')\n",
    "diff_color[2].set_color('green')\n",
    "diff_color[3].set_color('#DFFF00')\n",
    "\n",
    "plt.show()"
   ]
  },
  {
   "cell_type": "markdown",
   "id": "81aebf03",
   "metadata": {},
   "source": [
    "## 3. Number of species that have gone extinct since 1500-2020"
   ]
  },
  {
   "cell_type": "code",
   "execution_count": 4,
   "id": "445b81f4",
   "metadata": {},
   "outputs": [
    {
     "data": {
      "text/html": [
       "<div>\n",
       "<style scoped>\n",
       "    .dataframe tbody tr th:only-of-type {\n",
       "        vertical-align: middle;\n",
       "    }\n",
       "\n",
       "    .dataframe tbody tr th {\n",
       "        vertical-align: top;\n",
       "    }\n",
       "\n",
       "    .dataframe thead th {\n",
       "        text-align: right;\n",
       "    }\n",
       "</style>\n",
       "<table border=\"1\" class=\"dataframe\">\n",
       "  <thead>\n",
       "    <tr style=\"text-align: right;\">\n",
       "      <th></th>\n",
       "      <th>GROUP</th>\n",
       "      <th>NUMBER OF SPECIES</th>\n",
       "    </tr>\n",
       "  </thead>\n",
       "  <tbody>\n",
       "    <tr>\n",
       "      <th>0</th>\n",
       "      <td>Total species</td>\n",
       "      <td>900</td>\n",
       "    </tr>\n",
       "    <tr>\n",
       "      <th>1</th>\n",
       "      <td>Molluscs</td>\n",
       "      <td>299</td>\n",
       "    </tr>\n",
       "    <tr>\n",
       "      <th>2</th>\n",
       "      <td>Birds</td>\n",
       "      <td>159</td>\n",
       "    </tr>\n",
       "    <tr>\n",
       "      <th>3</th>\n",
       "      <td>Mammals</td>\n",
       "      <td>85</td>\n",
       "    </tr>\n",
       "    <tr>\n",
       "      <th>4</th>\n",
       "      <td>Fishes</td>\n",
       "      <td>80</td>\n",
       "    </tr>\n",
       "    <tr>\n",
       "      <th>5</th>\n",
       "      <td>Amphibians</td>\n",
       "      <td>35</td>\n",
       "    </tr>\n",
       "    <tr>\n",
       "      <th>6</th>\n",
       "      <td>Reptiles</td>\n",
       "      <td>30</td>\n",
       "    </tr>\n",
       "    <tr>\n",
       "      <th>7</th>\n",
       "      <td>Crustaceans</td>\n",
       "      <td>11</td>\n",
       "    </tr>\n",
       "  </tbody>\n",
       "</table>\n",
       "</div>"
      ],
      "text/plain": [
       "           GROUP  NUMBER OF SPECIES\n",
       "0  Total species                900\n",
       "1       Molluscs                299\n",
       "2          Birds                159\n",
       "3        Mammals                 85\n",
       "4         Fishes                 80\n",
       "5     Amphibians                 35\n",
       "6       Reptiles                 30\n",
       "7    Crustaceans                 11"
      ]
     },
     "execution_count": 4,
     "metadata": {},
     "output_type": "execute_result"
    }
   ],
   "source": [
    "import pandas as pd\n",
    "\n",
    "my_df2 = pd.DataFrame({\n",
    "    'GROUP': ['Total species', 'Molluscs', 'Birds', 'Mammals', 'Fishes', 'Amphibians', 'Reptiles', 'Crustaceans'],\n",
    "    'NUMBER OF SPECIES':  [900, 299, 159, 85, 80, 35, 30, 11],\n",
    "\n",
    "    })\n",
    "df2 = pd.DataFrame.from_dict(my_df2);df2"
   ]
  },
  {
   "cell_type": "code",
   "execution_count": 5,
   "id": "d2ebaed3",
   "metadata": {},
   "outputs": [
    {
     "data": {
      "image/png": "[encoded data removed]",
      "text/plain": [
       "<Figure size 792x504 with 1 Axes>"
      ]
     },
     "metadata": {
      "needs_background": "light"
     },
     "output_type": "display_data"
    }
   ],
   "source": [
    "fig1 = plt.figure(figsize = (11,7))\n",
    "ax2 = plt.subplot(111)\n",
    "diff__color = ax2.barh(df2['GROUP'],df2['NUMBER OF SPECIES'])\n",
    "diff__color[0].set_color('royalblue')\n",
    "diff__color[1].set_color('#E759AC')\n",
    "diff__color[2].set_color('#007848')\n",
    "diff__color[3].set_color('#FF4500')\n",
    "diff__color[4].set_color('#DFFF00')\n",
    "diff__color[5].set_color('orange')\n",
    "diff__color[6].set_color('purple')\n",
    "diff__color[7].set_color('#FFEA00')\n",
    "\n",
    "plt.show()"
   ]
  },
  {
   "cell_type": "markdown",
   "id": "beb131dc",
   "metadata": {},
   "source": [
    "##The Main Threats causing Extinction of Species"
   ]
  },
  {
   "cell_type": "code",
   "execution_count": 2,
   "id": "bf4b763d",
   "metadata": {},
   "outputs": [
    {
     "data": {
      "text/html": [
       "<div>\n",
       "<style scoped>\n",
       "    .dataframe tbody tr th:only-of-type {\n",
       "        vertical-align: middle;\n",
       "    }\n",
       "\n",
       "    .dataframe tbody tr th {\n",
       "        vertical-align: top;\n",
       "    }\n",
       "\n",
       "    .dataframe thead th {\n",
       "        text-align: right;\n",
       "    }\n",
       "</style>\n",
       "<table border=\"1\" class=\"dataframe\">\n",
       "  <thead>\n",
       "    <tr style=\"text-align: right;\">\n",
       "      <th></th>\n",
       "      <th>Threat</th>\n",
       "      <th>%ge</th>\n",
       "    </tr>\n",
       "  </thead>\n",
       "  <tbody>\n",
       "    <tr>\n",
       "      <th>0</th>\n",
       "      <td>Exploitation</td>\n",
       "      <td>37%</td>\n",
       "    </tr>\n",
       "    <tr>\n",
       "      <th>1</th>\n",
       "      <td>Habitat Degradation</td>\n",
       "      <td>31%</td>\n",
       "    </tr>\n",
       "    <tr>\n",
       "      <th>2</th>\n",
       "      <td>Loss of habitat</td>\n",
       "      <td>13%</td>\n",
       "    </tr>\n",
       "    <tr>\n",
       "      <th>3</th>\n",
       "      <td>Climate Change</td>\n",
       "      <td>7%</td>\n",
       "    </tr>\n",
       "    <tr>\n",
       "      <th>4</th>\n",
       "      <td>Invasive Species</td>\n",
       "      <td>5%</td>\n",
       "    </tr>\n",
       "    <tr>\n",
       "      <th>5</th>\n",
       "      <td>Pollution</td>\n",
       "      <td>4%</td>\n",
       "    </tr>\n",
       "    <tr>\n",
       "      <th>6</th>\n",
       "      <td>Disease</td>\n",
       "      <td>2%</td>\n",
       "    </tr>\n",
       "  </tbody>\n",
       "</table>\n",
       "</div>"
      ],
      "text/plain": [
       "                Threat  %ge\n",
       "0         Exploitation  37%\n",
       "1  Habitat Degradation  31%\n",
       "2      Loss of habitat  13%\n",
       "3       Climate Change   7%\n",
       "4     Invasive Species   5%\n",
       "5            Pollution   4%\n",
       "6              Disease   2%"
      ]
     },
     "execution_count": 2,
     "metadata": {},
     "output_type": "execute_result"
    }
   ],
   "source": [
    "import pandas as pd\n",
    "\n",
    "data = [['Exploitation', '37%'], ['Habitat Degradation', '31%'], ['Loss of habitat', '13%'], ['Climate Change','7%'],['Invasive Species','5%'],['Pollution','4%'],['Disease','2%']]\n",
    "  \n",
    "df = pd.DataFrame(data, columns = ['Threat', '%ge'])\n",
    "df"
   ]
  },
  {
   "cell_type": "code",
   "execution_count": 5,
   "id": "353cff53",
   "metadata": {},
   "outputs": [
    {
     "data": {
      "image/png": "[encoded data removed]",
      "text/plain": [
       "<Figure size 432x288 with 1 Axes>"
      ]
     },
     "metadata": {},
     "output_type": "display_data"
    }
   ],
   "source": [
    "import matplotlib.pyplot as plt\n",
    "import numpy as np\n",
    "\n",
    "y = np.array([37, 31, 13, 7, 5, 4, 2])\n",
    "pieLabels = [\"Exploitation\", \"Habitat Degradation\", \"Loss of habitat\", \"Climate Change\", \"Invasive Species\", \"Pollution\", \"Disease\"]\n",
    "font1 = {'family':'serif','color':'blue','size':20}\n",
    "pieExplode=[0.1,0,0,0,0,0,0]\n",
    "plt.pie(y, labels = pieLabels, explode=pieExplode, autopct='%2.0f%%',radius=1)\n",
    "plt.title(\"Main Threats causing Extinction\" ,fontdict = font1)\n",
    "plt.show()"
   ]
  },
  {
   "cell_type": "code",
   "execution_count": null,
   "id": "64c4cfa6",
   "metadata": {},
   "outputs": [],
   "source": []
  }
 ],
 "metadata": {
  "kernelspec": {
   "display_name": "Python 3 (ipykernel)",
   "language": "python",
   "name": "python3"
  },
  "language_info": {
   "codemirror_mode": {
    "name": "ipython",
    "version": 3
   },
   "file_extension": ".py",
   "mimetype": "text/x-python",
   "name": "python",
   "nbconvert_exporter": "python",
   "pygments_lexer": "ipython3",
   "version": "3.9.7"
  }
 },
 "nbformat": 4,
 "nbformat_minor": 5
}
