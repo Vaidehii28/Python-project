import matplotlib.pyplot as plt
import numpy as np

y = np.array([37, 31, 13, 7, 5, 4, 2])
mylabels = ["Exploitation", "Habitat Degradation", "Loss of habitat", "Climate Change", "Invasive Species", "Pollution", "Disease"]
font1 = {'family':'serif','color':'blue','size':20}
explode=[0.1,0,0,0,0,0,0]
plt.pie(y, labels = mylabels, explode=explode, autopct='%2.1f%%',radius=1)
plt.title("Main Threats causing Extinction" ,fontdict = font1)
plt.show()